{
 "cells": [
  {
   "cell_type": "code",
   "execution_count": 1,
   "id": "6a8b82fb",
   "metadata": {},
   "outputs": [],
   "source": [
    "import numpy as np\n",
    "import numpy.testing as npt\n",
    "import time"
   ]
  },
  {
   "cell_type": "code",
   "execution_count": 7,
   "id": "ca594fdd",
   "metadata": {},
   "outputs": [],
   "source": [
    "def gen_random_samples():\n",
    "    \"\"\"\n",
    "    Generate 5 million random samples using the\n",
    "    numpy random.randn module.\n",
    "\n",
    "    Returns\n",
    "    ----------\n",
    "    sample : 1d array of size 5 million\n",
    "        An array of 5 million random samples\n",
    "    \"\"\"\n",
    "    sample = np.random.randn(5000000)\n",
    "    return sample"
   ]
  },
  {
   "cell_type": "code",
   "execution_count": 10,
   "id": "8044ed29",
   "metadata": {},
   "outputs": [],
   "source": [
    "def sum_squares_for(samples):\n",
    "    \"\"\"\n",
    "    Compute the sum of squares using a forloop\n",
    "\n",
    "    Parameters\n",
    "    ----------\n",
    "    samples : 1d-array with shape n\n",
    "        An array of numbers.\n",
    "\n",
    "    Returns\n",
    "    -------\n",
    "    ss : float\n",
    "        The sum of squares of the samples\n",
    "    timeElapse: float\n",
    "        The time it took to calculate the sum of squares (in seconds)\n",
    "    \"\"\"\n",
    "    start = time.time()\n",
    "    ss = 0\n",
    "    for x in samples:\n",
    "        ss += x**2\n",
    "    end = time.time()\n",
    "    timeElapse = end - start\n",
    "    return ss, timeElapse"
   ]
  },
  {
   "cell_type": "code",
   "execution_count": 11,
   "id": "766750a9",
   "metadata": {},
   "outputs": [],
   "source": [
    "import time\n",
    "import numpy as np\n",
    "\n",
    "def sum_squares_np(samples):\n",
    "    \"\"\"\n",
    "    Compute the sum of squares using Numpy's dot module\n",
    "\n",
    "    Parameters\n",
    "    ----------\n",
    "    samples : 1d-array with shape n\n",
    "        An array of numbers.\n",
    "\n",
    "    Returns\n",
    "    -------\n",
    "    ss : float\n",
    "        The sum of squares of the samples\n",
    "    timeElapse: float\n",
    "        The time it took to calculate the sum of squares (in seconds)\n",
    "    \"\"\"\n",
    "    start = time.time()\n",
    "    ss = np.dot(samples, samples)\n",
    "    end = time.time()\n",
    "    timeElapse = end - start\n",
    "    return ss, timeElapse"
   ]
  },
  {
   "cell_type": "code",
   "execution_count": 16,
   "id": "b6bf653c",
   "metadata": {},
   "outputs": [],
   "source": [
    "def main():\n",
    "    # generate the random samples\n",
    "    samples = gen_random_samples()\n",
    "    # call the sum of squares\n",
    "    ssFor, timeFor = sum_squares_for(samples)\n",
    "    # call the numpy version\n",
    "    ssNp, timeNp = sum_squares_np(samples)\n",
    "    # make sure they're the same value\n",
    "    npt.assert_almost_equal(ssFor, ssNp, decimal=5)\n",
    "    # print out the values\n",
    "    print(\"Time [sec] (for loop):\", timeFor)\n",
    "    print(\"Time [sec] (np loop):\", timeNp)\n",
    "    timeDiff = timeFor - timeNp\n",
    "    print(\"Time [sec] (for loop) - (np loop) difference:\", timeDiff)"
   ]
  },
  {
   "cell_type": "code",
   "execution_count": 17,
   "id": "4b692ffe",
   "metadata": {},
   "outputs": [
    {
     "name": "stdout",
     "output_type": "stream",
     "text": [
      "Time [sec] (for loop): 1.7562828063964844\n",
      "Time [sec] (np loop): 0.0016620159149169922\n",
      "Time [sec] (for loop) - (np loop) difference: 1.7546207904815674\n"
     ]
    }
   ],
   "source": [
    "if __name__ == \"__main__\":\n",
    "    main()"
   ]
  },
  {
   "cell_type": "code",
   "execution_count": null,
   "id": "f30ecbf9",
   "metadata": {},
   "outputs": [],
   "source": []
  }
 ],
 "metadata": {
  "kernelspec": {
   "display_name": "Python 3 (ipykernel)",
   "language": "python",
   "name": "python3"
  },
  "language_info": {
   "codemirror_mode": {
    "name": "ipython",
    "version": 3
   },
   "file_extension": ".py",
   "mimetype": "text/x-python",
   "name": "python",
   "nbconvert_exporter": "python",
   "pygments_lexer": "ipython3",
   "version": "3.9.13"
  }
 },
 "nbformat": 4,
 "nbformat_minor": 5
}
